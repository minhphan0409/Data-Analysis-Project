{
 "cells": [
  {
   "cell_type": "markdown",
   "id": "ff7c2873",
   "metadata": {},
   "source": [
    "## Analysis"
   ]
  },
  {
   "cell_type": "code",
   "execution_count": 9,
   "id": "6f4c697f",
   "metadata": {},
   "outputs": [],
   "source": [
    "# Importing neccesary packages\n",
    "import numpy as np\n",
    "import pandas as pd\n",
    "import statsmodels.api as sm\n",
    "import statsmodels.formula.api as smf\n",
    "import matplotlib.pyplot as plt\n",
    "import mysql.connector\n",
    "from sqlalchemy import create_engine\n",
    "from scipy import stats\n",
    "from scipy.stats import sem\n",
    "import math\n",
    "import seaborn as sns\n",
    "from sklearn.model_selection import train_test_split\n",
    "from sklearn.linear_model import LogisticRegression\n",
    "from sklearn import metrics\n",
    "from io import StringIO\n",
    "import statistics\n",
    "import numpy as np\n",
    "import pandas as pd\n",
    "import seaborn as sns\n",
    "import matplotlib.pyplot as plt\n",
    "from scipy.stats import ttest_ind\n",
    "from scipy.stats import ttest_rel\n",
    "from sklearn import datasets\n",
    "import statsmodels.api as sm\n",
    "from sklearn.tree import DecisionTreeClassifier, export_text\n",
    "from sklearn.tree import plot_tree\n",
    "from matplotlib import pyplot as plt\n",
    "%matplotlib inline\n",
    "import seaborn as sns\n",
    "import pandas\n",
    "from sklearn import linear_model"
   ]
  },
  {
   "cell_type": "markdown",
   "id": "d6851467",
   "metadata": {},
   "source": [
    "## Datasets Explaination\n",
    "1. The Classification dataset is the list of films from Leonard Maltin's Guide. This dataset has 100 entries in total and 9 distinguished columns : Title, Year, Time, Cast, Rating, Description, Origin, Time_code and Good.\n",
    "\n",
    "2. The Regression and Hypothesis testing dataset is GPA of college students. This dataset has 219 entries in total and 10 distinguished columns: GPA, HSGPA, SATV, SATM, Male, HU, SS, FirstGen, White and CollegeBound."
   ]
  },
  {
   "cell_type": "code",
   "execution_count": 336,
   "id": "3ff2f34d",
   "metadata": {},
   "outputs": [
    {
     "data": {
      "text/html": [
       "<div>\n",
       "<style scoped>\n",
       "    .dataframe tbody tr th:only-of-type {\n",
       "        vertical-align: middle;\n",
       "    }\n",
       "\n",
       "    .dataframe tbody tr th {\n",
       "        vertical-align: top;\n",
       "    }\n",
       "\n",
       "    .dataframe thead th {\n",
       "        text-align: right;\n",
       "    }\n",
       "</style>\n",
       "<table border=\"1\" class=\"dataframe\">\n",
       "  <thead>\n",
       "    <tr style=\"text-align: right;\">\n",
       "      <th></th>\n",
       "      <th>Title</th>\n",
       "      <th>Year</th>\n",
       "      <th>Time</th>\n",
       "      <th>Cast</th>\n",
       "      <th>Rating</th>\n",
       "      <th>Description</th>\n",
       "      <th>Origin</th>\n",
       "      <th>Time_code</th>\n",
       "      <th>Good</th>\n",
       "    </tr>\n",
       "  </thead>\n",
       "  <tbody>\n",
       "    <tr>\n",
       "      <th>0</th>\n",
       "      <td>A_Ticklish_Affair</td>\n",
       "      <td>1963</td>\n",
       "      <td>89</td>\n",
       "      <td>5</td>\n",
       "      <td>2.0</td>\n",
       "      <td>7</td>\n",
       "      <td>0</td>\n",
       "      <td>short</td>\n",
       "      <td>0</td>\n",
       "    </tr>\n",
       "    <tr>\n",
       "      <th>1</th>\n",
       "      <td>Action_in_the_North_Atlantic</td>\n",
       "      <td>1943</td>\n",
       "      <td>127</td>\n",
       "      <td>7</td>\n",
       "      <td>3.0</td>\n",
       "      <td>9</td>\n",
       "      <td>0</td>\n",
       "      <td>long</td>\n",
       "      <td>1</td>\n",
       "    </tr>\n",
       "    <tr>\n",
       "      <th>2</th>\n",
       "      <td>And_the_Ship_Sails_On</td>\n",
       "      <td>1984</td>\n",
       "      <td>138</td>\n",
       "      <td>7</td>\n",
       "      <td>3.0</td>\n",
       "      <td>15</td>\n",
       "      <td>3</td>\n",
       "      <td>long</td>\n",
       "      <td>1</td>\n",
       "    </tr>\n",
       "    <tr>\n",
       "      <th>3</th>\n",
       "      <td>Autumn_Sonata</td>\n",
       "      <td>1978</td>\n",
       "      <td>97</td>\n",
       "      <td>5</td>\n",
       "      <td>3.0</td>\n",
       "      <td>11</td>\n",
       "      <td>5</td>\n",
       "      <td>long</td>\n",
       "      <td>1</td>\n",
       "    </tr>\n",
       "    <tr>\n",
       "      <th>4</th>\n",
       "      <td>Bachelor_Apartment</td>\n",
       "      <td>1931</td>\n",
       "      <td>77</td>\n",
       "      <td>6</td>\n",
       "      <td>2.5</td>\n",
       "      <td>7</td>\n",
       "      <td>0</td>\n",
       "      <td>short</td>\n",
       "      <td>0</td>\n",
       "    </tr>\n",
       "    <tr>\n",
       "      <th>...</th>\n",
       "      <td>...</td>\n",
       "      <td>...</td>\n",
       "      <td>...</td>\n",
       "      <td>...</td>\n",
       "      <td>...</td>\n",
       "      <td>...</td>\n",
       "      <td>...</td>\n",
       "      <td>...</td>\n",
       "      <td>...</td>\n",
       "    </tr>\n",
       "    <tr>\n",
       "      <th>95</th>\n",
       "      <td>Warning_Shot</td>\n",
       "      <td>1967</td>\n",
       "      <td>100</td>\n",
       "      <td>13</td>\n",
       "      <td>3.5</td>\n",
       "      <td>12</td>\n",
       "      <td>0</td>\n",
       "      <td>long</td>\n",
       "      <td>1</td>\n",
       "    </tr>\n",
       "    <tr>\n",
       "      <th>96</th>\n",
       "      <td>Whispering_Smith_vs._Scot._Yard</td>\n",
       "      <td>1951</td>\n",
       "      <td>77</td>\n",
       "      <td>5</td>\n",
       "      <td>2.0</td>\n",
       "      <td>9</td>\n",
       "      <td>1</td>\n",
       "      <td>short</td>\n",
       "      <td>0</td>\n",
       "    </tr>\n",
       "    <tr>\n",
       "      <th>97</th>\n",
       "      <td>Windows</td>\n",
       "      <td>1980</td>\n",
       "      <td>96</td>\n",
       "      <td>4</td>\n",
       "      <td>1.0</td>\n",
       "      <td>9</td>\n",
       "      <td>0</td>\n",
       "      <td>long</td>\n",
       "      <td>0</td>\n",
       "    </tr>\n",
       "    <tr>\n",
       "      <th>98</th>\n",
       "      <td>Windwalker</td>\n",
       "      <td>1980</td>\n",
       "      <td>108</td>\n",
       "      <td>5</td>\n",
       "      <td>2.5</td>\n",
       "      <td>11</td>\n",
       "      <td>0</td>\n",
       "      <td>long</td>\n",
       "      <td>0</td>\n",
       "    </tr>\n",
       "    <tr>\n",
       "      <th>99</th>\n",
       "      <td>You_Only_Live_Twice</td>\n",
       "      <td>1967</td>\n",
       "      <td>116</td>\n",
       "      <td>9</td>\n",
       "      <td>2.5</td>\n",
       "      <td>14</td>\n",
       "      <td>1</td>\n",
       "      <td>long</td>\n",
       "      <td>0</td>\n",
       "    </tr>\n",
       "  </tbody>\n",
       "</table>\n",
       "<p>100 rows × 9 columns</p>\n",
       "</div>"
      ],
      "text/plain": [
       "                              Title  Year  Time  Cast  Rating  Description  \\\n",
       "0                 A_Ticklish_Affair  1963    89     5     2.0            7   \n",
       "1      Action_in_the_North_Atlantic  1943   127     7     3.0            9   \n",
       "2             And_the_Ship_Sails_On  1984   138     7     3.0           15   \n",
       "3                     Autumn_Sonata  1978    97     5     3.0           11   \n",
       "4                Bachelor_Apartment  1931    77     6     2.5            7   \n",
       "..                              ...   ...   ...   ...     ...          ...   \n",
       "95                     Warning_Shot  1967   100    13     3.5           12   \n",
       "96  Whispering_Smith_vs._Scot._Yard  1951    77     5     2.0            9   \n",
       "97                          Windows  1980    96     4     1.0            9   \n",
       "98                       Windwalker  1980   108     5     2.5           11   \n",
       "99              You_Only_Live_Twice  1967   116     9     2.5           14   \n",
       "\n",
       "    Origin Time_code  Good  \n",
       "0        0     short     0  \n",
       "1        0      long     1  \n",
       "2        3      long     1  \n",
       "3        5      long     1  \n",
       "4        0     short     0  \n",
       "..     ...       ...   ...  \n",
       "95       0      long     1  \n",
       "96       1     short     0  \n",
       "97       0      long     0  \n",
       "98       0      long     0  \n",
       "99       1      long     0  \n",
       "\n",
       "[100 rows x 9 columns]"
      ]
     },
     "metadata": {},
     "output_type": "display_data"
    }
   ],
   "source": [
    "# Importing the classification dataset\n",
    "from rdatasets import data\n",
    "df_Film = data(\"Stat2Data\", \"Film\")\n",
    "display(df_Film)"
   ]
  },
  {
   "cell_type": "code",
   "execution_count": 176,
   "id": "974ef2b9",
   "metadata": {},
   "outputs": [
    {
     "name": "stdout",
     "output_type": "stream",
     "text": [
      "Title          0\n",
      "Year           0\n",
      "Time           0\n",
      "Cast           0\n",
      "Rating         0\n",
      "Description    0\n",
      "Origin         0\n",
      "Time_code      0\n",
      "Good           0\n",
      "dtype: int64\n",
      "<class 'pandas.core.frame.DataFrame'>\n",
      "RangeIndex: 100 entries, 0 to 99\n",
      "Data columns (total 9 columns):\n",
      " #   Column       Non-Null Count  Dtype  \n",
      "---  ------       --------------  -----  \n",
      " 0   Title        100 non-null    object \n",
      " 1   Year         100 non-null    int64  \n",
      " 2   Time         100 non-null    int64  \n",
      " 3   Cast         100 non-null    int64  \n",
      " 4   Rating       100 non-null    float64\n",
      " 5   Description  100 non-null    int64  \n",
      " 6   Origin       100 non-null    int64  \n",
      " 7   Time_code    100 non-null    object \n",
      " 8   Good         100 non-null    int64  \n",
      "dtypes: float64(1), int64(6), object(2)\n",
      "memory usage: 7.2+ KB\n",
      "None\n"
     ]
    }
   ],
   "source": [
    "# Data preprocessing \n",
    "print(df_Film.isnull().sum()) \n",
    "print(df_Film.info())"
   ]
  },
  {
   "cell_type": "markdown",
   "id": "244c6151",
   "metadata": {},
   "source": [
    "## Classification (Logistic Regression)"
   ]
  },
  {
   "cell_type": "code",
   "execution_count": 337,
   "id": "50c2eca0",
   "metadata": {},
   "outputs": [],
   "source": [
    " \n",
    "feature_cols = ['Time', 'Rating','Cast','Description'] ## Selecting which feautres we want to use for our modeling\n",
    "X = df_Film[feature_cols] # X will be an independent values\n",
    "y = df_Film['Good'] # y is the dependent value"
   ]
  },
  {
   "cell_type": "markdown",
   "id": "f76639f0",
   "metadata": {},
   "source": [
    "Explaination: \n",
    "The purpose of logistic regression is to model the relationship between the independent variables (features) and the probability of a particular outcome occurring. I want to use the logistic regression to identify factors that makes an film rank \" Good\" based on its time, rating, cast crews and movie's description"
   ]
  },
  {
   "cell_type": "code",
   "execution_count": 338,
   "id": "23198c6b",
   "metadata": {},
   "outputs": [
    {
     "name": "stdout",
     "output_type": "stream",
     "text": [
      "Train size= 75 Test size= 25\n"
     ]
    }
   ],
   "source": [
    "#Split the dataset (X and y)into training and testing sets\n",
    "X_train, X_test, y_train, y_test = train_test_split(X, y, test_size=0.25, random_state=0)\n",
    "print('Train size=', X_train.shape[0], 'Test size=', X_test.shape[0]) "
   ]
  },
  {
   "cell_type": "code",
   "execution_count": 339,
   "id": "cc1ca3c1",
   "metadata": {},
   "outputs": [],
   "source": [
    "# Running the Logistic Regression \n",
    "logreg = LogisticRegression(max_iter=1000)\n",
    "logreg.fit(X_train, y_train)\n",
    "y_pred = logreg.predict(X_test)"
   ]
  },
  {
   "cell_type": "markdown",
   "id": "bd730cb7",
   "metadata": {},
   "source": [
    "## Calculate and display the Confusion Matrix"
   ]
  },
  {
   "cell_type": "code",
   "execution_count": 340,
   "id": "6a9b7f83",
   "metadata": {},
   "outputs": [
    {
     "name": "stdout",
     "output_type": "stream",
     "text": [
      "Confusion matrix:\n",
      " [[16  1]\n",
      " [ 1  7]]\n"
     ]
    }
   ],
   "source": [
    "cnf_matrix = metrics.confusion_matrix(y_test, y_pred)\n",
    "print(\"Confusion matrix:\\n\", cnf_matrix)"
   ]
  },
  {
   "cell_type": "code",
   "execution_count": 341,
   "id": "746e0171",
   "metadata": {},
   "outputs": [
    {
     "data": {
      "text/plain": [
       "Text(0.5, 257.44, 'Predicted label')"
      ]
     },
     "execution_count": 341,
     "metadata": {},
     "output_type": "execute_result"
    },
    {
     "data": {
      "image/png": "[encoded data removed]",
      "text/plain": [
       "<Figure size 432x288 with 2 Axes>"
      ]
     },
     "metadata": {
      "needs_background": "light"
     },
     "output_type": "display_data"
    }
   ],
   "source": [
    "#Visualizing Confusion Matrix using Heatmap\n",
    "%matplotlib inline\n",
    "class_names=[1,0] \n",
    "fig, ax = plt.subplots()\n",
    "tick_marks = np.arange(len(class_names))\n",
    "plt.xticks(tick_marks, class_names)\n",
    "plt.yticks(tick_marks, class_names)\n",
    "\n",
    "# Create heatmap using sns package \n",
    "sns.heatmap(pd.DataFrame(cnf_matrix), annot=True, cmap=\"YlGnBu\" , fmt='g')\n",
    "ax.xaxis.set_label_position(\"top\")\n",
    "plt.tight_layout()\n",
    "plt.title('Confusion matrix', y=1.1)\n",
    "plt.ylabel('Actual label')\n",
    "plt.xlabel('Predicted label')\n"
   ]
  },
  {
   "cell_type": "markdown",
   "id": "e6b9a5c8",
   "metadata": {},
   "source": [
    "Figure 1 : Confusion Matrix of the Logistic Regression"
   ]
  },
  {
   "cell_type": "markdown",
   "id": "22acbb4a",
   "metadata": {},
   "source": [
    "## Evaluate the model performance"
   ]
  },
  {
   "cell_type": "code",
   "execution_count": 320,
   "id": "f7b528b2",
   "metadata": {},
   "outputs": [
    {
     "name": "stdout",
     "output_type": "stream",
     "text": [
      "Accuracy: 0.920\n",
      "Precision: 0.875\n",
      "Recall: 0.875\n",
      "F1: 0.875\n"
     ]
    }
   ],
   "source": [
    "##Print out the evaluation/performance metrics\n",
    "print(f\"Accuracy: {metrics.accuracy_score(y_test, y_pred):.3f}\")\n",
    "print(f\"Precision: {metrics.precision_score(y_test, y_pred):.3f}\")\n",
    "print(f\"Recall: {metrics.recall_score(y_test, y_pred):.3f}\")\n",
    "print(f\"F1: {metrics.f1_score(y_test, y_pred):.3f}\")"
   ]
  },
  {
   "cell_type": "markdown",
   "id": "02a00d5d",
   "metadata": {},
   "source": [
    "## Classification (Decision Tree)"
   ]
  },
  {
   "cell_type": "markdown",
   "id": "7d66b9a3",
   "metadata": {},
   "source": [
    "Explaination : \n",
    "Decision trees are machine learning models that serve various purposes in both classification and regression tasks.I want to use the decision tree to identify factors that makes an film rank \" Good\" based on its time, rating, cast crews and movie's description then compare the result to the logistic regression method."
   ]
  },
  {
   "cell_type": "code",
   "execution_count": 342,
   "id": "738a4532",
   "metadata": {},
   "outputs": [],
   "source": [
    "\n",
    "# Split the data into training and testing sets\n",
    "X_train, X_test, y_train, y_test = train_test_split(X, y, test_size=0.3, random_state=1)\n",
    "\n",
    "# Create a decision tree classifier with Gini as the criterion\n",
    "clf= DecisionTreeClassifier()\n",
    "# Train Decision Tree Classifer\n",
    "clf = clf.fit(X_train,y_train)\n",
    "\n",
    "y_pred = clf.predict(X_test)"
   ]
  },
  {
   "cell_type": "code",
   "execution_count": 343,
   "id": "b60da24f",
   "metadata": {},
   "outputs": [],
   "source": [
    "# Making prediction with the model\n",
    "y_pred = clf.predict(X_test)"
   ]
  },
  {
   "cell_type": "code",
   "execution_count": 344,
   "id": "baa139f3",
   "metadata": {},
   "outputs": [
    {
     "data": {
      "image/png": "[encoded data removed]",
      "text/plain": [
       "<Figure size 1080x1080 with 1 Axes>"
      ]
     },
     "metadata": {
      "needs_background": "light"
     },
     "output_type": "display_data"
    }
   ],
   "source": [
    "# Visualize the tree structure\n",
    "from sklearn import tree\n",
    "fig = plt.figure(figsize=(15,15))\n",
    "_ = tree.plot_tree(clf, feature_names=feature_cols, filled=True)"
   ]
  },
  {
   "cell_type": "markdown",
   "id": "0f37dedf",
   "metadata": {},
   "source": [
    "Figure 2: Gini Criterion Tree Structure "
   ]
  },
  {
   "cell_type": "markdown",
   "id": "2a84e31e",
   "metadata": {},
   "source": [
    "## Calculate and display the Confusion Matrix"
   ]
  },
  {
   "cell_type": "code",
   "execution_count": 347,
   "id": "654cde01",
   "metadata": {},
   "outputs": [
    {
     "name": "stdout",
     "output_type": "stream",
     "text": [
      "Confusion matrix:\n",
      " [[20  0]\n",
      " [ 0 10]]\n"
     ]
    }
   ],
   "source": [
    "#Generate the confusion matrix\n",
    "cnf_matrix = metrics.confusion_matrix(y_test, y_pred)\n",
    "print(\"Confusion matrix:\\n\", cnf_matrix)"
   ]
  },
  {
   "cell_type": "code",
   "execution_count": 345,
   "id": "3de6aa0f",
   "metadata": {},
   "outputs": [
    {
     "data": {
      "text/plain": [
       "Text(0.5, 257.44, 'Predicted label')"
      ]
     },
     "execution_count": 345,
     "metadata": {},
     "output_type": "execute_result"
    },
    {
     "data": {
      "image/png": "[encoded data removed]",
      "text/plain": [
       "<Figure size 432x288 with 2 Axes>"
      ]
     },
     "metadata": {
      "needs_background": "light"
     },
     "output_type": "display_data"
    }
   ],
   "source": [
    "\n",
    "class_names=[0,1] # name  of classes\n",
    "fig, ax = plt.subplots()\n",
    "tick_marks = np.arange(len(class_names))\n",
    "plt.xticks(tick_marks, class_names)\n",
    "plt.yticks(tick_marks, class_names)\n",
    "\n",
    "# Create heatmap\n",
    "sns.heatmap(pd.DataFrame(cnf_matrix), annot=True, cmap=\"YlGnBu\" ,fmt='g')\n",
    "ax.xaxis.set_label_position(\"top\")\n",
    "plt.tight_layout()\n",
    "plt.title('Confusion matrix', y=1.1)\n",
    "plt.ylabel('Actual label')\n",
    "plt.xlabel('Predicted label')"
   ]
  },
  {
   "cell_type": "markdown",
   "id": "ada88b86",
   "metadata": {},
   "source": [
    "Figure 3: Confusion matrix of Decision Tree"
   ]
  },
  {
   "cell_type": "markdown",
   "id": "1a4d17ac",
   "metadata": {},
   "source": [
    "## Evaluate the model performance"
   ]
  },
  {
   "cell_type": "code",
   "execution_count": 306,
   "id": "ac597af3",
   "metadata": {},
   "outputs": [
    {
     "name": "stdout",
     "output_type": "stream",
     "text": [
      "Accuracy: 1.0\n",
      "Precision: 1.0\n",
      "Recall: 1.0\n"
     ]
    }
   ],
   "source": [
    "##Print out the evaluation/performance metrics\n",
    "print(\"Accuracy:\", metrics.accuracy_score(y_test, y_pred))  \n",
    "print(\"Precision:\", metrics.precision_score(y_test, y_pred))   \n",
    "print(\"Recall:\", metrics.recall_score(y_test, y_pred))  "
   ]
  },
  {
   "cell_type": "markdown",
   "id": "b1aa107c",
   "metadata": {},
   "source": [
    "## Comparision between Logistic Regression and Decision Tree"
   ]
  },
  {
   "cell_type": "markdown",
   "id": "9ac55694",
   "metadata": {},
   "source": [
    "In the Logistic Regression, our model provides the accuracy of 0.920 which is about 92%; this value is lower than the accuracy of Decision Tree's accuracy which is 1.0 or 100%. Furthermore, when we look at the precision,the term refers to a measure of the accuracy of the positive predictions made by the model.In our model, Decision Tree's value is also 1.0 or 100% which is higher than 0.875 or about 87.5% of the Logistic Regression method."
   ]
  },
  {
   "cell_type": "markdown",
   "id": "e6d0e485",
   "metadata": {},
   "source": [
    "## Linear Regressions"
   ]
  },
  {
   "cell_type": "code",
   "execution_count": 4,
   "id": "9a71cf20",
   "metadata": {},
   "outputs": [
    {
     "data": {
      "text/html": [
       "<div>\n",
       "<style scoped>\n",
       "    .dataframe tbody tr th:only-of-type {\n",
       "        vertical-align: middle;\n",
       "    }\n",
       "\n",
       "    .dataframe tbody tr th {\n",
       "        vertical-align: top;\n",
       "    }\n",
       "\n",
       "    .dataframe thead th {\n",
       "        text-align: right;\n",
       "    }\n",
       "</style>\n",
       "<table border=\"1\" class=\"dataframe\">\n",
       "  <thead>\n",
       "    <tr style=\"text-align: right;\">\n",
       "      <th></th>\n",
       "      <th>GPA</th>\n",
       "      <th>HSGPA</th>\n",
       "      <th>SATV</th>\n",
       "      <th>SATM</th>\n",
       "      <th>Male</th>\n",
       "      <th>HU</th>\n",
       "      <th>SS</th>\n",
       "      <th>FirstGen</th>\n",
       "      <th>White</th>\n",
       "      <th>CollegeBound</th>\n",
       "    </tr>\n",
       "  </thead>\n",
       "  <tbody>\n",
       "    <tr>\n",
       "      <th>0</th>\n",
       "      <td>3.06</td>\n",
       "      <td>3.83</td>\n",
       "      <td>680</td>\n",
       "      <td>770</td>\n",
       "      <td>1</td>\n",
       "      <td>3.0</td>\n",
       "      <td>9.0</td>\n",
       "      <td>1</td>\n",
       "      <td>1</td>\n",
       "      <td>1</td>\n",
       "    </tr>\n",
       "    <tr>\n",
       "      <th>1</th>\n",
       "      <td>4.15</td>\n",
       "      <td>4.00</td>\n",
       "      <td>740</td>\n",
       "      <td>720</td>\n",
       "      <td>0</td>\n",
       "      <td>9.0</td>\n",
       "      <td>3.0</td>\n",
       "      <td>0</td>\n",
       "      <td>1</td>\n",
       "      <td>1</td>\n",
       "    </tr>\n",
       "    <tr>\n",
       "      <th>2</th>\n",
       "      <td>3.41</td>\n",
       "      <td>3.70</td>\n",
       "      <td>640</td>\n",
       "      <td>570</td>\n",
       "      <td>0</td>\n",
       "      <td>16.0</td>\n",
       "      <td>13.0</td>\n",
       "      <td>0</td>\n",
       "      <td>0</td>\n",
       "      <td>1</td>\n",
       "    </tr>\n",
       "    <tr>\n",
       "      <th>3</th>\n",
       "      <td>3.21</td>\n",
       "      <td>3.51</td>\n",
       "      <td>740</td>\n",
       "      <td>700</td>\n",
       "      <td>0</td>\n",
       "      <td>22.0</td>\n",
       "      <td>0.0</td>\n",
       "      <td>0</td>\n",
       "      <td>1</td>\n",
       "      <td>1</td>\n",
       "    </tr>\n",
       "    <tr>\n",
       "      <th>4</th>\n",
       "      <td>3.48</td>\n",
       "      <td>3.83</td>\n",
       "      <td>610</td>\n",
       "      <td>610</td>\n",
       "      <td>0</td>\n",
       "      <td>30.5</td>\n",
       "      <td>1.5</td>\n",
       "      <td>0</td>\n",
       "      <td>1</td>\n",
       "      <td>1</td>\n",
       "    </tr>\n",
       "    <tr>\n",
       "      <th>...</th>\n",
       "      <td>...</td>\n",
       "      <td>...</td>\n",
       "      <td>...</td>\n",
       "      <td>...</td>\n",
       "      <td>...</td>\n",
       "      <td>...</td>\n",
       "      <td>...</td>\n",
       "      <td>...</td>\n",
       "      <td>...</td>\n",
       "      <td>...</td>\n",
       "    </tr>\n",
       "    <tr>\n",
       "      <th>214</th>\n",
       "      <td>3.13</td>\n",
       "      <td>3.41</td>\n",
       "      <td>700</td>\n",
       "      <td>690</td>\n",
       "      <td>1</td>\n",
       "      <td>10.0</td>\n",
       "      <td>19.0</td>\n",
       "      <td>0</td>\n",
       "      <td>1</td>\n",
       "      <td>1</td>\n",
       "    </tr>\n",
       "    <tr>\n",
       "      <th>215</th>\n",
       "      <td>2.88</td>\n",
       "      <td>3.58</td>\n",
       "      <td>680</td>\n",
       "      <td>740</td>\n",
       "      <td>0</td>\n",
       "      <td>20.0</td>\n",
       "      <td>3.0</td>\n",
       "      <td>0</td>\n",
       "      <td>0</td>\n",
       "      <td>1</td>\n",
       "    </tr>\n",
       "    <tr>\n",
       "      <th>216</th>\n",
       "      <td>2.65</td>\n",
       "      <td>3.15</td>\n",
       "      <td>590</td>\n",
       "      <td>750</td>\n",
       "      <td>1</td>\n",
       "      <td>8.5</td>\n",
       "      <td>8.5</td>\n",
       "      <td>0</td>\n",
       "      <td>1</td>\n",
       "      <td>1</td>\n",
       "    </tr>\n",
       "    <tr>\n",
       "      <th>217</th>\n",
       "      <td>2.97</td>\n",
       "      <td>3.09</td>\n",
       "      <td>670</td>\n",
       "      <td>630</td>\n",
       "      <td>0</td>\n",
       "      <td>12.0</td>\n",
       "      <td>4.0</td>\n",
       "      <td>0</td>\n",
       "      <td>1</td>\n",
       "      <td>1</td>\n",
       "    </tr>\n",
       "    <tr>\n",
       "      <th>218</th>\n",
       "      <td>2.62</td>\n",
       "      <td>2.91</td>\n",
       "      <td>610</td>\n",
       "      <td>710</td>\n",
       "      <td>1</td>\n",
       "      <td>7.0</td>\n",
       "      <td>3.0</td>\n",
       "      <td>0</td>\n",
       "      <td>1</td>\n",
       "      <td>1</td>\n",
       "    </tr>\n",
       "  </tbody>\n",
       "</table>\n",
       "<p>219 rows × 10 columns</p>\n",
       "</div>"
      ],
      "text/plain": [
       "      GPA  HSGPA  SATV  SATM  Male    HU    SS  FirstGen  White  CollegeBound\n",
       "0    3.06   3.83   680   770     1   3.0   9.0         1      1             1\n",
       "1    4.15   4.00   740   720     0   9.0   3.0         0      1             1\n",
       "2    3.41   3.70   640   570     0  16.0  13.0         0      0             1\n",
       "3    3.21   3.51   740   700     0  22.0   0.0         0      1             1\n",
       "4    3.48   3.83   610   610     0  30.5   1.5         0      1             1\n",
       "..    ...    ...   ...   ...   ...   ...   ...       ...    ...           ...\n",
       "214  3.13   3.41   700   690     1  10.0  19.0         0      1             1\n",
       "215  2.88   3.58   680   740     0  20.0   3.0         0      0             1\n",
       "216  2.65   3.15   590   750     1   8.5   8.5         0      1             1\n",
       "217  2.97   3.09   670   630     0  12.0   4.0         0      1             1\n",
       "218  2.62   2.91   610   710     1   7.0   3.0         0      1             1\n",
       "\n",
       "[219 rows x 10 columns]"
      ]
     },
     "metadata": {},
     "output_type": "display_data"
    }
   ],
   "source": [
    "# Importing the regression dataset\n",
    "from rdatasets import data\n",
    "df_GPA = data(\"Stat2Data\", \"FirstYearGPA\")\n",
    "display(df_GPA)"
   ]
  },
  {
   "cell_type": "code",
   "execution_count": 322,
   "id": "a29a832e",
   "metadata": {},
   "outputs": [
    {
     "name": "stdout",
     "output_type": "stream",
     "text": [
      "GPA             0\n",
      "HSGPA           0\n",
      "SATV            0\n",
      "SATM            0\n",
      "Male            0\n",
      "HU              0\n",
      "SS              0\n",
      "FirstGen        0\n",
      "White           0\n",
      "CollegeBound    0\n",
      "dtype: int64\n",
      "<class 'pandas.core.frame.DataFrame'>\n",
      "RangeIndex: 219 entries, 0 to 218\n",
      "Data columns (total 10 columns):\n",
      " #   Column        Non-Null Count  Dtype  \n",
      "---  ------        --------------  -----  \n",
      " 0   GPA           219 non-null    float64\n",
      " 1   HSGPA         219 non-null    float64\n",
      " 2   SATV          219 non-null    int64  \n",
      " 3   SATM          219 non-null    int64  \n",
      " 4   Male          219 non-null    int64  \n",
      " 5   HU            219 non-null    float64\n",
      " 6   SS            219 non-null    float64\n",
      " 7   FirstGen      219 non-null    int64  \n",
      " 8   White         219 non-null    int64  \n",
      " 9   CollegeBound  219 non-null    int64  \n",
      "dtypes: float64(4), int64(6)\n",
      "memory usage: 17.2 KB\n",
      "None\n"
     ]
    }
   ],
   "source": [
    "# Data preprocessing \n",
    "print(df_GPA.isnull().sum()) \n",
    "print(df_GPA.info())"
   ]
  },
  {
   "cell_type": "markdown",
   "id": "2c645a83",
   "metadata": {},
   "source": [
    " Explaination : I want to use Linear Regression to predict the GPA of an college student base on their total SAT score (SATV + SATM) on the scale of 1600 . Since three is no total SAT score column, I will need to add that in the dataset."
   ]
  },
  {
   "cell_type": "code",
   "execution_count": 7,
   "id": "329f2485",
   "metadata": {},
   "outputs": [
    {
     "data": {
      "text/html": [
       "<div>\n",
       "<style scoped>\n",
       "    .dataframe tbody tr th:only-of-type {\n",
       "        vertical-align: middle;\n",
       "    }\n",
       "\n",
       "    .dataframe tbody tr th {\n",
       "        vertical-align: top;\n",
       "    }\n",
       "\n",
       "    .dataframe thead th {\n",
       "        text-align: right;\n",
       "    }\n",
       "</style>\n",
       "<table border=\"1\" class=\"dataframe\">\n",
       "  <thead>\n",
       "    <tr style=\"text-align: right;\">\n",
       "      <th></th>\n",
       "      <th>GPA</th>\n",
       "      <th>HSGPA</th>\n",
       "      <th>SATV</th>\n",
       "      <th>SATM</th>\n",
       "      <th>Male</th>\n",
       "      <th>HU</th>\n",
       "      <th>SS</th>\n",
       "      <th>FirstGen</th>\n",
       "      <th>White</th>\n",
       "      <th>CollegeBound</th>\n",
       "      <th>total_SAT</th>\n",
       "    </tr>\n",
       "  </thead>\n",
       "  <tbody>\n",
       "    <tr>\n",
       "      <th>0</th>\n",
       "      <td>3.06</td>\n",
       "      <td>3.83</td>\n",
       "      <td>680</td>\n",
       "      <td>770</td>\n",
       "      <td>1</td>\n",
       "      <td>3.0</td>\n",
       "      <td>9.0</td>\n",
       "      <td>1</td>\n",
       "      <td>1</td>\n",
       "      <td>1</td>\n",
       "      <td>1450</td>\n",
       "    </tr>\n",
       "    <tr>\n",
       "      <th>1</th>\n",
       "      <td>4.15</td>\n",
       "      <td>4.00</td>\n",
       "      <td>740</td>\n",
       "      <td>720</td>\n",
       "      <td>0</td>\n",
       "      <td>9.0</td>\n",
       "      <td>3.0</td>\n",
       "      <td>0</td>\n",
       "      <td>1</td>\n",
       "      <td>1</td>\n",
       "      <td>1460</td>\n",
       "    </tr>\n",
       "    <tr>\n",
       "      <th>2</th>\n",
       "      <td>3.41</td>\n",
       "      <td>3.70</td>\n",
       "      <td>640</td>\n",
       "      <td>570</td>\n",
       "      <td>0</td>\n",
       "      <td>16.0</td>\n",
       "      <td>13.0</td>\n",
       "      <td>0</td>\n",
       "      <td>0</td>\n",
       "      <td>1</td>\n",
       "      <td>1210</td>\n",
       "    </tr>\n",
       "    <tr>\n",
       "      <th>3</th>\n",
       "      <td>3.21</td>\n",
       "      <td>3.51</td>\n",
       "      <td>740</td>\n",
       "      <td>700</td>\n",
       "      <td>0</td>\n",
       "      <td>22.0</td>\n",
       "      <td>0.0</td>\n",
       "      <td>0</td>\n",
       "      <td>1</td>\n",
       "      <td>1</td>\n",
       "      <td>1440</td>\n",
       "    </tr>\n",
       "    <tr>\n",
       "      <th>4</th>\n",
       "      <td>3.48</td>\n",
       "      <td>3.83</td>\n",
       "      <td>610</td>\n",
       "      <td>610</td>\n",
       "      <td>0</td>\n",
       "      <td>30.5</td>\n",
       "      <td>1.5</td>\n",
       "      <td>0</td>\n",
       "      <td>1</td>\n",
       "      <td>1</td>\n",
       "      <td>1220</td>\n",
       "    </tr>\n",
       "    <tr>\n",
       "      <th>...</th>\n",
       "      <td>...</td>\n",
       "      <td>...</td>\n",
       "      <td>...</td>\n",
       "      <td>...</td>\n",
       "      <td>...</td>\n",
       "      <td>...</td>\n",
       "      <td>...</td>\n",
       "      <td>...</td>\n",
       "      <td>...</td>\n",
       "      <td>...</td>\n",
       "      <td>...</td>\n",
       "    </tr>\n",
       "    <tr>\n",
       "      <th>214</th>\n",
       "      <td>3.13</td>\n",
       "      <td>3.41</td>\n",
       "      <td>700</td>\n",
       "      <td>690</td>\n",
       "      <td>1</td>\n",
       "      <td>10.0</td>\n",
       "      <td>19.0</td>\n",
       "      <td>0</td>\n",
       "      <td>1</td>\n",
       "      <td>1</td>\n",
       "      <td>1390</td>\n",
       "    </tr>\n",
       "    <tr>\n",
       "      <th>215</th>\n",
       "      <td>2.88</td>\n",
       "      <td>3.58</td>\n",
       "      <td>680</td>\n",
       "      <td>740</td>\n",
       "      <td>0</td>\n",
       "      <td>20.0</td>\n",
       "      <td>3.0</td>\n",
       "      <td>0</td>\n",
       "      <td>0</td>\n",
       "      <td>1</td>\n",
       "      <td>1420</td>\n",
       "    </tr>\n",
       "    <tr>\n",
       "      <th>216</th>\n",
       "      <td>2.65</td>\n",
       "      <td>3.15</td>\n",
       "      <td>590</td>\n",
       "      <td>750</td>\n",
       "      <td>1</td>\n",
       "      <td>8.5</td>\n",
       "      <td>8.5</td>\n",
       "      <td>0</td>\n",
       "      <td>1</td>\n",
       "      <td>1</td>\n",
       "      <td>1340</td>\n",
       "    </tr>\n",
       "    <tr>\n",
       "      <th>217</th>\n",
       "      <td>2.97</td>\n",
       "      <td>3.09</td>\n",
       "      <td>670</td>\n",
       "      <td>630</td>\n",
       "      <td>0</td>\n",
       "      <td>12.0</td>\n",
       "      <td>4.0</td>\n",
       "      <td>0</td>\n",
       "      <td>1</td>\n",
       "      <td>1</td>\n",
       "      <td>1300</td>\n",
       "    </tr>\n",
       "    <tr>\n",
       "      <th>218</th>\n",
       "      <td>2.62</td>\n",
       "      <td>2.91</td>\n",
       "      <td>610</td>\n",
       "      <td>710</td>\n",
       "      <td>1</td>\n",
       "      <td>7.0</td>\n",
       "      <td>3.0</td>\n",
       "      <td>0</td>\n",
       "      <td>1</td>\n",
       "      <td>1</td>\n",
       "      <td>1320</td>\n",
       "    </tr>\n",
       "  </tbody>\n",
       "</table>\n",
       "<p>219 rows × 11 columns</p>\n",
       "</div>"
      ],
      "text/plain": [
       "      GPA  HSGPA  SATV  SATM  Male    HU    SS  FirstGen  White  CollegeBound  \\\n",
       "0    3.06   3.83   680   770     1   3.0   9.0         1      1             1   \n",
       "1    4.15   4.00   740   720     0   9.0   3.0         0      1             1   \n",
       "2    3.41   3.70   640   570     0  16.0  13.0         0      0             1   \n",
       "3    3.21   3.51   740   700     0  22.0   0.0         0      1             1   \n",
       "4    3.48   3.83   610   610     0  30.5   1.5         0      1             1   \n",
       "..    ...    ...   ...   ...   ...   ...   ...       ...    ...           ...   \n",
       "214  3.13   3.41   700   690     1  10.0  19.0         0      1             1   \n",
       "215  2.88   3.58   680   740     0  20.0   3.0         0      0             1   \n",
       "216  2.65   3.15   590   750     1   8.5   8.5         0      1             1   \n",
       "217  2.97   3.09   670   630     0  12.0   4.0         0      1             1   \n",
       "218  2.62   2.91   610   710     1   7.0   3.0         0      1             1   \n",
       "\n",
       "     total_SAT  \n",
       "0         1450  \n",
       "1         1460  \n",
       "2         1210  \n",
       "3         1440  \n",
       "4         1220  \n",
       "..         ...  \n",
       "214       1390  \n",
       "215       1420  \n",
       "216       1340  \n",
       "217       1300  \n",
       "218       1320  \n",
       "\n",
       "[219 rows x 11 columns]"
      ]
     },
     "metadata": {},
     "output_type": "display_data"
    }
   ],
   "source": [
    "# Creating an new column called total_SAT that add the score of the SATV and SATM together\n",
    "df_GPA['total_SAT'] = df_GPA['SATV'] + df_GPA['SATM'] # Saturn Cloud Blog(2023)\n",
    "# Display the dataframe with added column\n",
    "display(df_GPA)"
   ]
  },
  {
   "cell_type": "code",
   "execution_count": 328,
   "id": "8db9ff03",
   "metadata": {},
   "outputs": [
    {
     "name": "stdout",
     "output_type": "stream",
     "text": [
      "Model summary                             OLS Regression Results                            \n",
      "==============================================================================\n",
      "Dep. Variable:                    GPA   R-squared:                       0.083\n",
      "Model:                            OLS   Adj. R-squared:                  0.079\n",
      "Method:                 Least Squares   F-statistic:                     19.70\n",
      "Date:                Sun, 10 Dec 2023   Prob (F-statistic):           1.44e-05\n",
      "Time:                        20:19:42   Log-Likelihood:                -133.26\n",
      "No. Observations:                 219   AIC:                             270.5\n",
      "Df Residuals:                     217   BIC:                             277.3\n",
      "Df Model:                           1                                         \n",
      "Covariance Type:            nonrobust                                         \n",
      "==============================================================================\n",
      "                 coef    std err          t      P>|t|      [0.025      0.975]\n",
      "------------------------------------------------------------------------------\n",
      "Intercept      1.8960      0.272      6.968      0.000       1.360       2.432\n",
      "total_SAT      0.0010      0.000      4.438      0.000       0.001       0.001\n",
      "==============================================================================\n",
      "Omnibus:                        6.916   Durbin-Watson:                   2.066\n",
      "Prob(Omnibus):                  0.031   Jarque-Bera (JB):                5.366\n",
      "Skew:                          -0.276   Prob(JB):                       0.0684\n",
      "Kurtosis:                       2.467   Cond. No.                     1.12e+04\n",
      "==============================================================================\n",
      "\n",
      "Notes:\n",
      "[1] Standard Errors assume that the covariance matrix of the errors is correctly specified.\n",
      "[2] The condition number is large, 1.12e+04. This might indicate that there are\n",
      "strong multicollinearity or other numerical problems.\n"
     ]
    },
    {
     "data": {
      "image/png": "[encoded data removed]",
      "text/plain": [
       "<Figure size 432x288 with 1 Axes>"
      ]
     },
     "metadata": {
      "needs_background": "light"
     },
     "output_type": "display_data"
    },
    {
     "name": "stdout",
     "output_type": "stream",
     "text": [
      "Predicted college GPA value for the 1400 SAT score is: 3.2517199496961013\n"
     ]
    }
   ],
   "source": [
    "\n",
    "# Fit linear regression\n",
    "model = smf.ols('GPA ~ total_SAT',data = df_GPA).fit()\n",
    "\n",
    "# Inspect the results\n",
    "print(\"Model summary\", model.summary())\n",
    "# Plot the results of the linear regression model\n",
    "df_GPA.plot.scatter(x='total_SAT', y='GPA', c='blue')\n",
    "plt.plot(df_GPA['total_SAT'], model.predict(df_GPA), color='red', linewidth=2)\n",
    "plt.xlabel('total_SAT')\n",
    "plt.ylabel('GPA')\n",
    "plt.show()\n",
    "\n",
    "# Making prediction based on the model's trend\n",
    "print(\"Predicted college GPA value for the 1400 SAT score is:\", model.predict({\"total_SAT\": 1400})[0])"
   ]
  },
  {
   "cell_type": "markdown",
   "id": "6be3861d",
   "metadata": {},
   "source": [
    " Explaination : I want to use linear regression to predict the GPA of an college student base on their high school GPA on the scale of 4."
   ]
  },
  {
   "cell_type": "code",
   "execution_count": 327,
   "id": "a8ac0a06",
   "metadata": {},
   "outputs": [
    {
     "name": "stdout",
     "output_type": "stream",
     "text": [
      "Model summary                             OLS Regression Results                            \n",
      "==============================================================================\n",
      "Dep. Variable:                    GPA   R-squared:                       0.200\n",
      "Model:                            OLS   Adj. R-squared:                  0.196\n",
      "Method:                 Least Squares   F-statistic:                     54.15\n",
      "Date:                Sun, 10 Dec 2023   Prob (F-statistic):           3.78e-12\n",
      "Time:                        20:19:01   Log-Likelihood:                -118.38\n",
      "No. Observations:                 219   AIC:                             240.8\n",
      "Df Residuals:                     217   BIC:                             247.5\n",
      "Df Model:                           1                                         \n",
      "Covariance Type:            nonrobust                                         \n",
      "==============================================================================\n",
      "                 coef    std err          t      P>|t|      [0.025      0.975]\n",
      "------------------------------------------------------------------------------\n",
      "Intercept      1.1799      0.262      4.504      0.000       0.664       1.696\n",
      "HSGPA          0.5550      0.075      7.359      0.000       0.406       0.704\n",
      "==============================================================================\n",
      "Omnibus:                        5.915   Durbin-Watson:                   2.175\n",
      "Prob(Omnibus):                  0.052   Jarque-Bera (JB):                4.952\n",
      "Skew:                          -0.279   Prob(JB):                       0.0841\n",
      "Kurtosis:                       2.518   Cond. No.                         34.9\n",
      "==============================================================================\n",
      "\n",
      "Notes:\n",
      "[1] Standard Errors assume that the covariance matrix of the errors is correctly specified.\n"
     ]
    },
    {
     "data": {
      "image/png": "[encoded data removed]",
      "text/plain": [
       "<Figure size 432x288 with 1 Axes>"
      ]
     },
     "metadata": {
      "needs_background": "light"
     },
     "output_type": "display_data"
    },
    {
     "name": "stdout",
     "output_type": "stream",
     "text": [
      "Predicted college GPA value for an 3.2 high school GPA is: 2.9558906770575497\n"
     ]
    }
   ],
   "source": [
    "\n",
    "# Fit linear regression\n",
    "model_2 = smf.ols('GPA ~ HSGPA',data = df_GPA).fit()\n",
    "# Inspect the results\n",
    "print(\"Model summary\", model_2.summary())\n",
    "# Plot the results of the linear regression model\n",
    "df_GPA.plot.scatter(x='HSGPA', y='GPA', c='blue')\n",
    "plt.plot(df_GPA['HSGPA'], model_2.predict(df_GPA), color='red', linewidth=2)\n",
    "plt.xlabel('HS GPA')\n",
    "plt.ylabel('College GPA')\n",
    "plt.show()\n",
    "print(\"Predicted college GPA value for an 3.2 high school GPA is:\", model_2.predict({\"HSGPA\": 3.2})[0])"
   ]
  },
  {
   "cell_type": "markdown",
   "id": "cf934ae9",
   "metadata": {},
   "source": [
    "## Multiple Linear Regression"
   ]
  },
  {
   "cell_type": "markdown",
   "id": "48baf916",
   "metadata": {},
   "source": [
    "Explaination : I want to use multiple linear regression to predict the GPA of an college student base on their high school GPA and total SAT score on the scale of 4."
   ]
  },
  {
   "cell_type": "code",
   "execution_count": 16,
   "id": "230a9ac9",
   "metadata": {},
   "outputs": [
    {
     "name": "stdout",
     "output_type": "stream",
     "text": [
      "Predicted college GPA value for an 3.9 high school GPA and total SAT score of 1200 is: 3.2937594354170447\n"
     ]
    }
   ],
   "source": [
    "X = df_GPA[['total_SAT','HSGPA']]\n",
    "y = df_GPA['GPA']\n",
    "regr = linear_model.LinearRegression()\n",
    "regr.fit(X, y) # fit multiple linear regression model\n",
    "# Making prediction with student having an total SAT of 1200 and 3.9 HS GPA \n",
    "predictedGPA = regr.predict([[1200, 3.9]])   \n",
    "print(f\"Predicted college GPA value for an 3.9 high school GPA and total SAT score of 1200 is: {predictedGPA[0]}\")"
   ]
  },
  {
   "cell_type": "markdown",
   "id": "412bf64d",
   "metadata": {},
   "source": [
    "# Hypothesis testing "
   ]
  },
  {
   "cell_type": "markdown",
   "id": "de6408b8",
   "metadata": {},
   "source": [
    "Explaination: In the \"FirstGen\" column, there is yes/no values,  which indicate is this student first gen college student or not, I want to identify are there any differences in the means of college GPA between first gen and non first gen students."
   ]
  },
  {
   "cell_type": "code",
   "execution_count": 329,
   "id": "bd22c49d",
   "metadata": {},
   "outputs": [],
   "source": [
    "# Encoding the original data from the dataset :From 0 and 1 to yes and no for the \"FirstGen\" column\n",
    "df_GPA['FirstGen'] = df_GPA['FirstGen'].replace(to_replace=[0, 1], value=['no', 'yes']) #Stack Overflow"
   ]
  },
  {
   "cell_type": "code",
   "execution_count": 330,
   "id": "2cea0927",
   "metadata": {},
   "outputs": [
    {
     "data": {
      "text/html": [
       "<div>\n",
       "<style scoped>\n",
       "    .dataframe tbody tr th:only-of-type {\n",
       "        vertical-align: middle;\n",
       "    }\n",
       "\n",
       "    .dataframe tbody tr th {\n",
       "        vertical-align: top;\n",
       "    }\n",
       "\n",
       "    .dataframe thead th {\n",
       "        text-align: right;\n",
       "    }\n",
       "</style>\n",
       "<table border=\"1\" class=\"dataframe\">\n",
       "  <thead>\n",
       "    <tr style=\"text-align: right;\">\n",
       "      <th></th>\n",
       "      <th>GPA</th>\n",
       "      <th>HSGPA</th>\n",
       "      <th>SATV</th>\n",
       "      <th>SATM</th>\n",
       "      <th>Male</th>\n",
       "      <th>HU</th>\n",
       "      <th>SS</th>\n",
       "      <th>FirstGen</th>\n",
       "      <th>White</th>\n",
       "      <th>CollegeBound</th>\n",
       "      <th>total_SAT</th>\n",
       "    </tr>\n",
       "  </thead>\n",
       "  <tbody>\n",
       "    <tr>\n",
       "      <th>0</th>\n",
       "      <td>3.06</td>\n",
       "      <td>3.83</td>\n",
       "      <td>680</td>\n",
       "      <td>770</td>\n",
       "      <td>1</td>\n",
       "      <td>3.0</td>\n",
       "      <td>9.0</td>\n",
       "      <td>yes</td>\n",
       "      <td>1</td>\n",
       "      <td>1</td>\n",
       "      <td>1450</td>\n",
       "    </tr>\n",
       "    <tr>\n",
       "      <th>1</th>\n",
       "      <td>4.15</td>\n",
       "      <td>4.00</td>\n",
       "      <td>740</td>\n",
       "      <td>720</td>\n",
       "      <td>0</td>\n",
       "      <td>9.0</td>\n",
       "      <td>3.0</td>\n",
       "      <td>no</td>\n",
       "      <td>1</td>\n",
       "      <td>1</td>\n",
       "      <td>1460</td>\n",
       "    </tr>\n",
       "    <tr>\n",
       "      <th>2</th>\n",
       "      <td>3.41</td>\n",
       "      <td>3.70</td>\n",
       "      <td>640</td>\n",
       "      <td>570</td>\n",
       "      <td>0</td>\n",
       "      <td>16.0</td>\n",
       "      <td>13.0</td>\n",
       "      <td>no</td>\n",
       "      <td>0</td>\n",
       "      <td>1</td>\n",
       "      <td>1210</td>\n",
       "    </tr>\n",
       "    <tr>\n",
       "      <th>3</th>\n",
       "      <td>3.21</td>\n",
       "      <td>3.51</td>\n",
       "      <td>740</td>\n",
       "      <td>700</td>\n",
       "      <td>0</td>\n",
       "      <td>22.0</td>\n",
       "      <td>0.0</td>\n",
       "      <td>no</td>\n",
       "      <td>1</td>\n",
       "      <td>1</td>\n",
       "      <td>1440</td>\n",
       "    </tr>\n",
       "    <tr>\n",
       "      <th>4</th>\n",
       "      <td>3.48</td>\n",
       "      <td>3.83</td>\n",
       "      <td>610</td>\n",
       "      <td>610</td>\n",
       "      <td>0</td>\n",
       "      <td>30.5</td>\n",
       "      <td>1.5</td>\n",
       "      <td>no</td>\n",
       "      <td>1</td>\n",
       "      <td>1</td>\n",
       "      <td>1220</td>\n",
       "    </tr>\n",
       "    <tr>\n",
       "      <th>...</th>\n",
       "      <td>...</td>\n",
       "      <td>...</td>\n",
       "      <td>...</td>\n",
       "      <td>...</td>\n",
       "      <td>...</td>\n",
       "      <td>...</td>\n",
       "      <td>...</td>\n",
       "      <td>...</td>\n",
       "      <td>...</td>\n",
       "      <td>...</td>\n",
       "      <td>...</td>\n",
       "    </tr>\n",
       "    <tr>\n",
       "      <th>214</th>\n",
       "      <td>3.13</td>\n",
       "      <td>3.41</td>\n",
       "      <td>700</td>\n",
       "      <td>690</td>\n",
       "      <td>1</td>\n",
       "      <td>10.0</td>\n",
       "      <td>19.0</td>\n",
       "      <td>no</td>\n",
       "      <td>1</td>\n",
       "      <td>1</td>\n",
       "      <td>1390</td>\n",
       "    </tr>\n",
       "    <tr>\n",
       "      <th>215</th>\n",
       "      <td>2.88</td>\n",
       "      <td>3.58</td>\n",
       "      <td>680</td>\n",
       "      <td>740</td>\n",
       "      <td>0</td>\n",
       "      <td>20.0</td>\n",
       "      <td>3.0</td>\n",
       "      <td>no</td>\n",
       "      <td>0</td>\n",
       "      <td>1</td>\n",
       "      <td>1420</td>\n",
       "    </tr>\n",
       "    <tr>\n",
       "      <th>216</th>\n",
       "      <td>2.65</td>\n",
       "      <td>3.15</td>\n",
       "      <td>590</td>\n",
       "      <td>750</td>\n",
       "      <td>1</td>\n",
       "      <td>8.5</td>\n",
       "      <td>8.5</td>\n",
       "      <td>no</td>\n",
       "      <td>1</td>\n",
       "      <td>1</td>\n",
       "      <td>1340</td>\n",
       "    </tr>\n",
       "    <tr>\n",
       "      <th>217</th>\n",
       "      <td>2.97</td>\n",
       "      <td>3.09</td>\n",
       "      <td>670</td>\n",
       "      <td>630</td>\n",
       "      <td>0</td>\n",
       "      <td>12.0</td>\n",
       "      <td>4.0</td>\n",
       "      <td>no</td>\n",
       "      <td>1</td>\n",
       "      <td>1</td>\n",
       "      <td>1300</td>\n",
       "    </tr>\n",
       "    <tr>\n",
       "      <th>218</th>\n",
       "      <td>2.62</td>\n",
       "      <td>2.91</td>\n",
       "      <td>610</td>\n",
       "      <td>710</td>\n",
       "      <td>1</td>\n",
       "      <td>7.0</td>\n",
       "      <td>3.0</td>\n",
       "      <td>no</td>\n",
       "      <td>1</td>\n",
       "      <td>1</td>\n",
       "      <td>1320</td>\n",
       "    </tr>\n",
       "  </tbody>\n",
       "</table>\n",
       "<p>219 rows × 11 columns</p>\n",
       "</div>"
      ],
      "text/plain": [
       "      GPA  HSGPA  SATV  SATM  Male    HU    SS FirstGen  White  CollegeBound  \\\n",
       "0    3.06   3.83   680   770     1   3.0   9.0      yes      1             1   \n",
       "1    4.15   4.00   740   720     0   9.0   3.0       no      1             1   \n",
       "2    3.41   3.70   640   570     0  16.0  13.0       no      0             1   \n",
       "3    3.21   3.51   740   700     0  22.0   0.0       no      1             1   \n",
       "4    3.48   3.83   610   610     0  30.5   1.5       no      1             1   \n",
       "..    ...    ...   ...   ...   ...   ...   ...      ...    ...           ...   \n",
       "214  3.13   3.41   700   690     1  10.0  19.0       no      1             1   \n",
       "215  2.88   3.58   680   740     0  20.0   3.0       no      0             1   \n",
       "216  2.65   3.15   590   750     1   8.5   8.5       no      1             1   \n",
       "217  2.97   3.09   670   630     0  12.0   4.0       no      1             1   \n",
       "218  2.62   2.91   610   710     1   7.0   3.0       no      1             1   \n",
       "\n",
       "     total_SAT  \n",
       "0         1450  \n",
       "1         1460  \n",
       "2         1210  \n",
       "3         1440  \n",
       "4         1220  \n",
       "..         ...  \n",
       "214       1390  \n",
       "215       1420  \n",
       "216       1340  \n",
       "217       1300  \n",
       "218       1320  \n",
       "\n",
       "[219 rows x 11 columns]"
      ]
     },
     "metadata": {},
     "output_type": "display_data"
    }
   ],
   "source": [
    "# Display the dataset with FirstGen column changes\n",
    "display(df_GPA)"
   ]
  },
  {
   "cell_type": "markdown",
   "id": "78db4659",
   "metadata": {},
   "source": [
    "## Conduct a two-sample t-test (the independent samples t-test) for variables"
   ]
  },
  {
   "cell_type": "code",
   "execution_count": 353,
   "id": "43a8d894",
   "metadata": {},
   "outputs": [
    {
     "name": "stdout",
     "output_type": "stream",
     "text": [
      "t-stat -2.335332665958965\n",
      "p-value: 0.02043904426086219\n",
      "The p-value is 0.02 < 0.05. Therefore, we reject the Null Hypothesis\n",
      "There is a statistical difference between the means of GPA in an first-gen and non first-gen student.\n"
     ]
    }
   ],
   "source": [
    "\n",
    "# Step 1 : Stating the Null, Alternative hypothesis and alpha value \n",
    "Null_Hypothesis = 'There is no difference between the means of GPA in an first-gen and non first-gen student'\n",
    "Alternative_hypothesis = 'There is a statistical difference between the means of GPA in an first-gen and non first-gen student' \n",
    "alpha = 0.05\n",
    "\n",
    "# Step 2 : Create 2 samples to gathering the data\n",
    "sampA = df_GPA.loc[df_GPA['FirstGen'] == 'yes']['GPA']\n",
    "sampB = df_GPA.loc[df_GPA['FirstGen'] == 'no']['GPA']\n",
    "\n",
    "# Step 3 : Perform the t-stat and p-value calculation\n",
    "t_statistic, p_value = ttest_ind(sampA, sampB)\n",
    "print('t-stat',t_statistic)\n",
    "print('p-value:', p_value)\n",
    "\n",
    "# Step 4: Decide whether to reject or fail to reject your null hypothesis.\n",
    "if p_value < alpha :\n",
    "    print(f\"The p-value is {p_value:.2f} < {alpha}. Therefore, we reject the Null Hypothesis\")\n",
    "# Step 5 : State a real-world conclusion\n",
    "    print(\"There is a statistical difference between the means of GPA in an first-gen and non first-gen student.\")\n",
    "else :\n",
    "    print(f\"The p-value is {p_value:.2f} > {alpha}. Therefore, we fail to reject the Null Hypothesis\")\n",
    "    print(\"There is no difference between the means of GPA in an first-gen and non first-gen student.\")"
   ]
  },
  {
   "cell_type": "markdown",
   "id": "e6712736",
   "metadata": {},
   "source": [
    "# Relevant Graphs"
   ]
  },
  {
   "cell_type": "code",
   "execution_count": 333,
   "id": "0d4ca46a",
   "metadata": {
    "scrolled": false
   },
   "outputs": [
    {
     "data": {
      "text/plain": [
       "Text(0.5, 1.0, 'GPA Distribution')"
      ]
     },
     "execution_count": 333,
     "metadata": {},
     "output_type": "execute_result"
    },
    {
     "data": {
      "image/png": "[encoded data removed]",
      "text/plain": [
       "<Figure size 1440x720 with 1 Axes>"
      ]
     },
     "metadata": {
      "needs_background": "light"
     },
     "output_type": "display_data"
    }
   ],
   "source": [
    "# Plot a probability density\n",
    "ax = df_GPA['GPA'].plot.kde(figsize=(20, 10))\n",
    "df_GPA['GPA'].plot(kind='hist', ax=ax, density=True)\n",
    "ax.set_xlabel('GPA')\n",
    "_ = ax.set_ylabel('Density')\n",
    "plt.title(\"GPA Distribution\")"
   ]
  },
  {
   "cell_type": "markdown",
   "id": "48be42be",
   "metadata": {},
   "source": [
    "Figure 4: A probability density graph of the GPA column"
   ]
  },
  {
   "cell_type": "code",
   "execution_count": 293,
   "id": "6ff65115",
   "metadata": {},
   "outputs": [],
   "source": [
    "pkmn_type_colors = ['#78C850',  # Grass\n",
    "                    '#F08030',  # Fire\n",
    "                    '#6890F0',  # Water\n",
    "                    '#A8B820',  # Bug\n",
    "                    '#A8A878',  # Normal\n",
    "                    '#A040A0',  # Poison\n",
    "                    '#F8D030',  # Electric\n",
    "                    '#E0C068',  # Ground\n",
    "                    '#EE99AC',  # Fairy\n",
    "                    '#C03028',  # Fighting\n",
    "                    '#F85888',  # Psychic\n",
    "                    '#B8A038',  # Rock\n",
    "                    '#705898',  # Ghost\n",
    "                    '#98D8D8',  # Ice\n",
    "                    '#7038F8',  # Dragon\n",
    "                   ]"
   ]
  },
  {
   "cell_type": "code",
   "execution_count": 335,
   "id": "fa599cd2",
   "metadata": {},
   "outputs": [
    {
     "data": {
      "text/plain": [
       "Text(0.5, 1.0, 'First Gen Indication Bar Plot')"
      ]
     },
     "execution_count": 335,
     "metadata": {},
     "output_type": "execute_result"
    },
    {
     "data": {
      "image/png": "[encoded data removed]",
      "text/plain": [
       "<Figure size 1440x1440 with 1 Axes>"
      ]
     },
     "metadata": {
      "needs_background": "light"
     },
     "output_type": "display_data"
    }
   ],
   "source": [
    "# A bar plot of First Gen student in college \n",
    "plt.figure(figsize=(20,20))\n",
    "sns.countplot(x='FirstGen', data= df_GPA, palette=pkmn_type_colors)\n",
    "plt.title(\"First Gen Indication Bar Plot\")"
   ]
  },
  {
   "cell_type": "markdown",
   "id": "2abbae93",
   "metadata": {},
   "source": [
    "Figure 5: A Bar Plot of the FirstGen column"
   ]
  }
 ],
 "metadata": {
  "kernelspec": {
   "display_name": "Python 3",
   "language": "python",
   "name": "python3"
  },
  "language_info": {
   "codemirror_mode": {
    "name": "ipython",
    "version": 3
   },
   "file_extension": ".py",
   "mimetype": "text/x-python",
   "name": "python",
   "nbconvert_exporter": "python",
   "pygments_lexer": "ipython3",
   "version": "3.8.8"
  }
 },
 "nbformat": 4,
 "nbformat_minor": 5
}
